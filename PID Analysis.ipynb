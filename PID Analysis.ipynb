{
 "cells": [
  {
   "cell_type": "markdown",
   "metadata": {},
   "source": [
    "# PID implementation"
   ]
  },
  {
   "cell_type": "markdown",
   "metadata": {},
   "source": [
    "The PID controller has been implemented according to the gidelines in the lesson. For clarity, we keep three variables to reflect the state of the three componentes of the PID.\n",
    "\n",
    "```cpp\n",
    "void PID::UpdateError(double cte) {\n",
    "  i_error_ += cte;\n",
    "  d_error_ = (cte - p_error_);\n",
    "  p_error_ = cte;\n",
    "}\n",
    "\n",
    "double PID::TotalError() {\n",
    "  return -Kp_ * p_error_ - Ki_ * i_error_ - Kd_ * d_error_;\n",
    "}\n",
    "```\n",
    "\n",
    "The car is controlled by two independent PIDs, one controls the steering wheel angle, and the other the throttle/brake pedals. For the second one I have fixed a speed of 50mph.\n",
    "\n",
    "In order to facilitate the tuning of the PID parameters, I have modified the original program to dump the data of the simulation to the standard output."
   ]
  },
  {
   "cell_type": "markdown",
   "metadata": {},
   "source": [
    "## PID parameters selection"
   ]
  },
  {
   "cell_type": "markdown",
   "metadata": {},
   "source": [
    "In order to select the parameters of the simulation, I run several iterations, inspired by the twiddle algorithm, but not following it strictly. I also applied the next heuristics to fine-tune the parameters of the steering wheel PID:\n",
    "- If the car has problems to follow closed curves, or to return to the center, I increment the proportional component.\n",
    "- If the error oscillates too much I increment the derivative component.\n",
    "- Keep the integral component under control. We want to correct a possible systematic bias, but a value too high can create inestabilities in the control (e.g. the integral component of the speed controller accummulates a lot of error at the beginning of the circuit, as it starts from 0mph. if the $K_i$ is too high, it will make the car to keep accelerating after the goal speed is reached. This can eventually lead to catastrophic oscillations of the speed.)\n",
    "\n",
    "This is the final selection of parameters:\n",
    "\n",
    "<table>\n",
    "    <tr>\n",
    "        <th>Controller</th>\n",
    "        <th>$K_p$</th>\n",
    "        <th>$K_i$</th>\n",
    "        <th>$K_d$</th>\n",
    "    </tr>\n",
    "    <tr>\n",
    "        <th>Steer</th>\n",
    "        <td>.11</td>\n",
    "        <td>.000001</td>\n",
    "        <td>3</td>\n",
    "    </tr>\n",
    "    <tr>\n",
    "        <th>Throttle</th>\n",
    "        <td>.2</td>\n",
    "        <td>.00005</td>\n",
    "        <td>.05</td>\n",
    "    </tr>\n",
    "</table>    \n",
    "\n",
    "Implemented in `main.c`:\n",
    "\n",
    "```cpp\n",
    "  PID pid_steer;\n",
    "  pid_steer.Init(.11, .000001, 3);\n",
    "\n",
    "  PID pid_throttle;\n",
    "  pid_throttle.Init(.2, .00005, .05);\n",
    "```\n"
   ]
  },
  {
   "cell_type": "markdown",
   "metadata": {},
   "source": [
    "## Analysis of the PID error\n",
    "\n",
    "To facilitate the selection of the parameters, I have used pandas to plot the controller error."
   ]
  },
  {
   "cell_type": "code",
   "execution_count": 9,
   "metadata": {
    "collapsed": true
   },
   "outputs": [],
   "source": [
    "%matplotlib inline\n",
    "import pandas as pd\n",
    "import numpy as np\n",
    "import matplotlib.pyplot as plt"
   ]
  },
  {
   "cell_type": "code",
   "execution_count": 12,
   "metadata": {},
   "outputs": [
    {
     "data": {
      "text/html": [
       "<div>\n",
       "<table border=\"1\" class=\"dataframe\">\n",
       "  <thead>\n",
       "    <tr style=\"text-align: right;\">\n",
       "      <th></th>\n",
       "      <th>CTE</th>\n",
       "      <th>speed</th>\n",
       "      <th>angle</th>\n",
       "      <th>throttle</th>\n",
       "      <th>steer</th>\n",
       "    </tr>\n",
       "  </thead>\n",
       "  <tbody>\n",
       "    <tr>\n",
       "      <th>0</th>\n",
       "      <td>0.7598</td>\n",
       "      <td>0.000</td>\n",
       "      <td>0.0000</td>\n",
       "      <td>1.0</td>\n",
       "      <td>-1.000000</td>\n",
       "    </tr>\n",
       "    <tr>\n",
       "      <th>1</th>\n",
       "      <td>0.7598</td>\n",
       "      <td>0.438</td>\n",
       "      <td>0.0000</td>\n",
       "      <td>1.0</td>\n",
       "      <td>-0.083580</td>\n",
       "    </tr>\n",
       "    <tr>\n",
       "      <th>2</th>\n",
       "      <td>0.7598</td>\n",
       "      <td>0.876</td>\n",
       "      <td>-24.5637</td>\n",
       "      <td>1.0</td>\n",
       "      <td>-0.083580</td>\n",
       "    </tr>\n",
       "    <tr>\n",
       "      <th>3</th>\n",
       "      <td>0.7598</td>\n",
       "      <td>1.314</td>\n",
       "      <td>-1.6532</td>\n",
       "      <td>1.0</td>\n",
       "      <td>-0.083581</td>\n",
       "    </tr>\n",
       "    <tr>\n",
       "      <th>4</th>\n",
       "      <td>0.7598</td>\n",
       "      <td>1.752</td>\n",
       "      <td>-1.6532</td>\n",
       "      <td>1.0</td>\n",
       "      <td>-0.083582</td>\n",
       "    </tr>\n",
       "  </tbody>\n",
       "</table>\n",
       "</div>"
      ],
      "text/plain": [
       "      CTE  speed    angle  throttle     steer\n",
       "0  0.7598  0.000   0.0000       1.0 -1.000000\n",
       "1  0.7598  0.438   0.0000       1.0 -0.083580\n",
       "2  0.7598  0.876 -24.5637       1.0 -0.083580\n",
       "3  0.7598  1.314  -1.6532       1.0 -0.083581\n",
       "4  0.7598  1.752  -1.6532       1.0 -0.083582"
      ]
     },
     "execution_count": 12,
     "metadata": {},
     "output_type": "execute_result"
    }
   ],
   "source": [
    "df = pd.read_csv('./dump.csv', header=None, names=['CTE', 'speed', 'angle',  'throttle', 'steer'])\n",
    "df.head()"
   ]
  },
  {
   "cell_type": "code",
   "execution_count": 13,
   "metadata": {},
   "outputs": [
    {
     "data": {
      "image/png": "[encoded data removed]",
      "text/plain": [
       "<matplotlib.figure.Figure at 0x108399290>"
      ]
     },
     "metadata": {},
     "output_type": "display_data"
    }
   ],
   "source": [
    "_ = df[df.columns[[0]]][:].plot(title=\"Steer PID Error\")"
   ]
  },
  {
   "cell_type": "code",
   "execution_count": 14,
   "metadata": {},
   "outputs": [
    {
     "data": {
      "image/png": "[encoded data removed]",
      "text/plain": [
       "<matplotlib.figure.Figure at 0x10865ab90>"
      ]
     },
     "metadata": {},
     "output_type": "display_data"
    }
   ],
   "source": [
    "_ = (df[df.columns[[1]]][:]).plot(title=\"Speed PID\")"
   ]
  }
 ],
 "metadata": {
  "kernelspec": {
   "display_name": "Python 2",
   "language": "python",
   "name": "python2"
  },
  "language_info": {
   "codemirror_mode": {
    "name": "ipython",
    "version": 2
   },
   "file_extension": ".py",
   "mimetype": "text/x-python",
   "name": "python",
   "nbconvert_exporter": "python",
   "pygments_lexer": "ipython2",
   "version": "2.7.11"
  }
 },
 "nbformat": 4,
 "nbformat_minor": 2
}
